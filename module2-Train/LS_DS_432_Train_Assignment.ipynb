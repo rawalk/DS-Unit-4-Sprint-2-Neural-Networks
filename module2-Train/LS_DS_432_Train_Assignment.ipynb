{
  "nbformat": 4,
  "nbformat_minor": 0,
  "metadata": {
    "colab": {
      "name": "LS_DS_432_Train_Assignment.ipynb",
      "provenance": [],
      "collapsed_sections": [],
      "toc_visible": true
    },
    "kernelspec": {
      "display_name": "Python 3",
      "language": "python",
      "name": "python3"
    },
    "language_info": {
      "codemirror_mode": {
        "name": "ipython",
        "version": 3
      },
      "file_extension": ".py",
      "mimetype": "text/x-python",
      "name": "python",
      "nbconvert_exporter": "python",
      "pygments_lexer": "ipython3",
      "version": "3.7.3"
    },
    "nteract": {
      "version": "0.22.4"
    },
    "accelerator": "GPU"
  },
  "cells": [
    {
      "cell_type": "markdown",
      "metadata": {
        "colab_type": "text",
        "id": "NGGrt9EYlCqY"
      },
      "source": [
        "<img align=\"left\" src=\"https://lever-client-logos.s3.amazonaws.com/864372b1-534c-480e-acd5-9711f850815c-1524247202159.png\" width=200>\n",
        "<br></br>\n",
        "<br></br>\n",
        "\n",
        "# Train Practice\n",
        "\n",
        "## *Data Science Unit 4 Sprint 2 Assignment 2*\n",
        "\n",
        "Continue to use TensorFlow Keras & a sample of the [Quickdraw dataset](https://github.com/googlecreativelab/quickdraw-dataset) to build a sketch classification model. The dataset has been sampled to only 10 classes and 10000 observations per class. Please build a baseline classification model then run a few experiments with different optimizers and learning rates. \n",
        "\n",
        "*Don't forgot to switch to GPU on Colab!*"
      ]
    },
    {
      "cell_type": "markdown",
      "metadata": {
        "id": "ptJ2b3wk62Ud",
        "colab_type": "text"
      },
      "source": [
        "### Write a function to load your data\n",
        "\n",
        "Wrap yesterday's preprocessing steps into a function that returns four items:\n",
        "* X_train\n",
        "* y_train\n",
        "* X_test\n",
        "* y_test\n",
        "\n",
        "Your function should accept a `path` to the data as a argument."
      ]
    },
    {
      "cell_type": "markdown",
      "metadata": {
        "id": "1iI_SezFllV_",
        "colab_type": "text"
      },
      "source": [
        ""
      ]
    },
    {
      "cell_type": "code",
      "metadata": {
        "id": "fVaTnkw9lpVY",
        "colab_type": "code",
        "colab": {}
      },
      "source": [
        "from sklearn.model_selection import train_test_split"
      ],
      "execution_count": 46,
      "outputs": []
    },
    {
      "cell_type": "code",
      "metadata": {
        "id": "nJsIsrvp7O3e",
        "colab_type": "code",
        "colab": {}
      },
      "source": [
        "def load_quickdraw10(path):\n",
        "  X = data['arr_0']\n",
        "  y = data['arr_1']\n",
        "  X_train, X_test, y_train, y_test = train_test_split(\n",
        "      X, y, test_size=0.20, random_state=42)\n",
        "  return X_train, y_train, X_test, y_test"
      ],
      "execution_count": 47,
      "outputs": []
    },
    {
      "cell_type": "code",
      "metadata": {
        "id": "ougye7Ojk71J",
        "colab_type": "code",
        "colab": {}
      },
      "source": [
        "import numpy as np\n",
        "data = np.load('quickdraw10.npz')"
      ],
      "execution_count": 48,
      "outputs": []
    },
    {
      "cell_type": "code",
      "metadata": {
        "id": "lpsInhiHmBN1",
        "colab_type": "code",
        "colab": {}
      },
      "source": [
        "X_train, y_train, X_test, y_test = load_quickdraw10(data)"
      ],
      "execution_count": 49,
      "outputs": []
    },
    {
      "cell_type": "code",
      "metadata": {
        "id": "xUZJbCoqmIEb",
        "colab_type": "code",
        "colab": {
          "base_uri": "https://localhost:8080/",
          "height": 35
        },
        "outputId": "c5d24b2e-6d80-4a0d-aaa0-4f521a4699b9"
      },
      "source": [
        "X_train.shape, y_train.shape, X_test.shape, y_test.shape"
      ],
      "execution_count": 50,
      "outputs": [
        {
          "output_type": "execute_result",
          "data": {
            "text/plain": [
              "((80000, 784), (80000,), (20000, 784), (20000,))"
            ]
          },
          "metadata": {
            "tags": []
          },
          "execution_count": 50
        }
      ]
    },
    {
      "cell_type": "markdown",
      "metadata": {
        "id": "l-6PxI6H5__2",
        "colab_type": "text"
      },
      "source": [
        "### Write a Model Function\n",
        "Using your model from yesterday, write a function called `create_model` which returns a compiled TensorFlow Keras Sequential Model suitable for classifying the QuickDraw-10 dataset. Include parameters for the following: \n",
        "* Learning Rate\n",
        "* Optimizer"
      ]
    },
    {
      "cell_type": "code",
      "metadata": {
        "colab_type": "code",
        "id": "nEREYT-3wI1f",
        "colab": {}
      },
      "source": [
        "from tensorflow.keras import Sequential\n",
        "from tensorflow.keras.layers import Dense\n",
        "from tensorflow.keras.optimizers import SGD\n",
        "\n",
        "def create_model(lr=0.01):\n",
        "  opt = SGD(learning_rate=lr)\n",
        "  model = Sequential([\n",
        "                      Dense(32, activation='relu', input_dim=784),\n",
        "                      Dense(32, activation='relu'),\n",
        "                      Dense(10, activation='softmax')\n",
        "  ])\n",
        "  model.compile(optimizer=opt,\n",
        "                loss='sparse_categorical_crossentropy',\n",
        "                metrics=['accuracy'])\n",
        "  return model"
      ],
      "execution_count": 51,
      "outputs": []
    },
    {
      "cell_type": "markdown",
      "metadata": {
        "id": "f0pCkh8C7eGL",
        "colab_type": "text"
      },
      "source": [
        "### Experiment with Batch Size\n",
        "* Run 5 experiments with various batch sizes of your choice. \n",
        "* Visualize the results\n",
        "* Write up an analysis of the experiments and select the \"best\" performing model among your experiments. Make sure to compare against your model's performance yesterday. "
      ]
    },
    {
      "cell_type": "code",
      "metadata": {
        "id": "USXjs7Hk71Hy",
        "colab_type": "code",
        "colab": {
          "base_uri": "https://localhost:8080/",
          "height": 884
        },
        "outputId": "380f26db-3011-4ca0-8a7d-caba0c6f37d0"
      },
      "source": [
        "model = create_model()\n",
        "\n",
        "bt_default = model.fit(X_train, \n",
        "                       y_train,\n",
        "                       epochs=25,\n",
        "                       batch_size=32,\n",
        "                       validation_data=(X_test, y_test)\n",
        ")"
      ],
      "execution_count": 14,
      "outputs": [
        {
          "output_type": "stream",
          "text": [
            "Epoch 1/25\n",
            "2500/2500 [==============================] - 5s 2ms/step - loss: 86.9682 - accuracy: 0.0996 - val_loss: 2.3297 - val_accuracy: 0.1000\n",
            "Epoch 2/25\n",
            "2500/2500 [==============================] - 5s 2ms/step - loss: 2.3207 - accuracy: 0.0985 - val_loss: 2.4962 - val_accuracy: 0.1002\n",
            "Epoch 3/25\n",
            "2500/2500 [==============================] - 5s 2ms/step - loss: 2.3026 - accuracy: 0.0983 - val_loss: 2.4963 - val_accuracy: 0.1002\n",
            "Epoch 4/25\n",
            "2500/2500 [==============================] - 5s 2ms/step - loss: 2.3027 - accuracy: 0.0997 - val_loss: 2.4962 - val_accuracy: 0.1000\n",
            "Epoch 5/25\n",
            "2500/2500 [==============================] - 6s 2ms/step - loss: 2.3026 - accuracy: 0.0996 - val_loss: 2.4961 - val_accuracy: 0.0993\n",
            "Epoch 6/25\n",
            "2500/2500 [==============================] - 5s 2ms/step - loss: 2.3026 - accuracy: 0.0973 - val_loss: 2.4961 - val_accuracy: 0.0993\n",
            "Epoch 7/25\n",
            "2500/2500 [==============================] - 5s 2ms/step - loss: 2.3026 - accuracy: 0.0994 - val_loss: 2.4961 - val_accuracy: 0.1019\n",
            "Epoch 8/25\n",
            "2500/2500 [==============================] - 5s 2ms/step - loss: 2.3026 - accuracy: 0.0981 - val_loss: 2.4961 - val_accuracy: 0.0988\n",
            "Epoch 9/25\n",
            "2500/2500 [==============================] - 5s 2ms/step - loss: 2.3026 - accuracy: 0.0987 - val_loss: 2.4961 - val_accuracy: 0.0996\n",
            "Epoch 10/25\n",
            "2500/2500 [==============================] - 5s 2ms/step - loss: 2.3026 - accuracy: 0.0982 - val_loss: 2.4961 - val_accuracy: 0.1001\n",
            "Epoch 11/25\n",
            "2500/2500 [==============================] - 5s 2ms/step - loss: 2.3026 - accuracy: 0.0986 - val_loss: 2.4960 - val_accuracy: 0.1002\n",
            "Epoch 12/25\n",
            "2500/2500 [==============================] - 5s 2ms/step - loss: 2.3026 - accuracy: 0.0992 - val_loss: 2.4960 - val_accuracy: 0.1001\n",
            "Epoch 13/25\n",
            "2500/2500 [==============================] - 5s 2ms/step - loss: 2.3026 - accuracy: 0.0990 - val_loss: 2.4960 - val_accuracy: 0.1001\n",
            "Epoch 14/25\n",
            "2500/2500 [==============================] - 5s 2ms/step - loss: 2.3026 - accuracy: 0.0972 - val_loss: 2.4961 - val_accuracy: 0.0993\n",
            "Epoch 15/25\n",
            "2500/2500 [==============================] - 5s 2ms/step - loss: 2.3026 - accuracy: 0.0999 - val_loss: 2.4960 - val_accuracy: 0.1001\n",
            "Epoch 16/25\n",
            "2500/2500 [==============================] - 5s 2ms/step - loss: 2.3026 - accuracy: 0.0975 - val_loss: 2.4960 - val_accuracy: 0.1019\n",
            "Epoch 17/25\n",
            "2500/2500 [==============================] - 5s 2ms/step - loss: 2.3026 - accuracy: 0.0999 - val_loss: 2.4960 - val_accuracy: 0.0993\n",
            "Epoch 18/25\n",
            "2500/2500 [==============================] - 5s 2ms/step - loss: 2.3026 - accuracy: 0.0999 - val_loss: 2.4961 - val_accuracy: 0.1001\n",
            "Epoch 19/25\n",
            "2500/2500 [==============================] - 5s 2ms/step - loss: 2.3026 - accuracy: 0.0998 - val_loss: 2.4960 - val_accuracy: 0.1000\n",
            "Epoch 20/25\n",
            "2500/2500 [==============================] - 5s 2ms/step - loss: 2.3026 - accuracy: 0.0979 - val_loss: 2.4960 - val_accuracy: 0.1002\n",
            "Epoch 21/25\n",
            "2500/2500 [==============================] - 5s 2ms/step - loss: 2.3026 - accuracy: 0.0992 - val_loss: 2.4960 - val_accuracy: 0.1001\n",
            "Epoch 22/25\n",
            "2500/2500 [==============================] - 5s 2ms/step - loss: 2.3026 - accuracy: 0.0989 - val_loss: 2.4960 - val_accuracy: 0.0993\n",
            "Epoch 23/25\n",
            "2500/2500 [==============================] - 5s 2ms/step - loss: 2.3026 - accuracy: 0.0961 - val_loss: 2.4960 - val_accuracy: 0.1002\n",
            "Epoch 24/25\n",
            "2500/2500 [==============================] - 5s 2ms/step - loss: 2.3026 - accuracy: 0.0993 - val_loss: 2.4960 - val_accuracy: 0.0993\n",
            "Epoch 25/25\n",
            "2500/2500 [==============================] - 5s 2ms/step - loss: 2.3026 - accuracy: 0.0985 - val_loss: 2.4961 - val_accuracy: 0.0996\n"
          ],
          "name": "stdout"
        }
      ]
    },
    {
      "cell_type": "code",
      "metadata": {
        "id": "eqa8B9hswDv_",
        "colab_type": "code",
        "colab": {
          "base_uri": "https://localhost:8080/",
          "height": 884
        },
        "outputId": "f291dc28-18b1-4d82-cc17-732d14841f6f"
      },
      "source": [
        "model = create_model()\n",
        "\n",
        "bt_16 = model.fit(X_train, \n",
        "                       y_train,\n",
        "                       epochs=25,\n",
        "                       batch_size=16,\n",
        "                       validation_data=(X_test, y_test)\n",
        ")"
      ],
      "execution_count": 15,
      "outputs": [
        {
          "output_type": "stream",
          "text": [
            "Epoch 1/25\n",
            "5000/5000 [==============================] - 10s 2ms/step - loss: 188.8251 - accuracy: 0.0988 - val_loss: 2.4727 - val_accuracy: 0.1001\n",
            "Epoch 2/25\n",
            "5000/5000 [==============================] - 10s 2ms/step - loss: 3.2221 - accuracy: 0.0988 - val_loss: 2.3099 - val_accuracy: 0.0988\n",
            "Epoch 3/25\n",
            "5000/5000 [==============================] - 9s 2ms/step - loss: 2.3026 - accuracy: 0.0989 - val_loss: 2.3100 - val_accuracy: 0.1001\n",
            "Epoch 4/25\n",
            "5000/5000 [==============================] - 10s 2ms/step - loss: 2.3027 - accuracy: 0.0978 - val_loss: 2.3100 - val_accuracy: 0.1001\n",
            "Epoch 5/25\n",
            "5000/5000 [==============================] - 10s 2ms/step - loss: 2.3027 - accuracy: 0.0991 - val_loss: 2.3100 - val_accuracy: 0.1000\n",
            "Epoch 6/25\n",
            "5000/5000 [==============================] - 10s 2ms/step - loss: 2.3027 - accuracy: 0.0990 - val_loss: 2.3100 - val_accuracy: 0.0996\n",
            "Epoch 7/25\n",
            "5000/5000 [==============================] - 10s 2ms/step - loss: 2.3027 - accuracy: 0.0985 - val_loss: 2.3099 - val_accuracy: 0.1000\n",
            "Epoch 8/25\n",
            "5000/5000 [==============================] - 10s 2ms/step - loss: 2.3027 - accuracy: 0.0986 - val_loss: 2.3100 - val_accuracy: 0.0993\n",
            "Epoch 9/25\n",
            "5000/5000 [==============================] - 10s 2ms/step - loss: 2.3026 - accuracy: 0.0994 - val_loss: 2.3099 - val_accuracy: 0.1002\n",
            "Epoch 10/25\n",
            "5000/5000 [==============================] - 10s 2ms/step - loss: 2.3026 - accuracy: 0.0988 - val_loss: 2.3099 - val_accuracy: 0.0996\n",
            "Epoch 11/25\n",
            "5000/5000 [==============================] - 10s 2ms/step - loss: 2.3027 - accuracy: 0.0978 - val_loss: 2.3100 - val_accuracy: 0.1001\n",
            "Epoch 12/25\n",
            "5000/5000 [==============================] - 10s 2ms/step - loss: 2.3026 - accuracy: 0.0982 - val_loss: 2.3100 - val_accuracy: 0.1000\n",
            "Epoch 13/25\n",
            "5000/5000 [==============================] - 10s 2ms/step - loss: 2.3026 - accuracy: 0.1003 - val_loss: 2.3100 - val_accuracy: 0.1000\n",
            "Epoch 14/25\n",
            "5000/5000 [==============================] - 10s 2ms/step - loss: 2.3027 - accuracy: 0.1000 - val_loss: 2.3099 - val_accuracy: 0.0993\n",
            "Epoch 15/25\n",
            "5000/5000 [==============================] - 11s 2ms/step - loss: 2.3027 - accuracy: 0.0971 - val_loss: 2.3099 - val_accuracy: 0.1001\n",
            "Epoch 16/25\n",
            "5000/5000 [==============================] - 10s 2ms/step - loss: 2.3027 - accuracy: 0.0986 - val_loss: 2.3099 - val_accuracy: 0.1001\n",
            "Epoch 17/25\n",
            "5000/5000 [==============================] - 10s 2ms/step - loss: 2.3026 - accuracy: 0.0997 - val_loss: 2.3100 - val_accuracy: 0.0993\n",
            "Epoch 18/25\n",
            "5000/5000 [==============================] - 10s 2ms/step - loss: 2.3027 - accuracy: 0.0976 - val_loss: 2.3099 - val_accuracy: 0.1001\n",
            "Epoch 19/25\n",
            "5000/5000 [==============================] - 10s 2ms/step - loss: 2.3026 - accuracy: 0.1013 - val_loss: 2.3101 - val_accuracy: 0.0988\n",
            "Epoch 20/25\n",
            "5000/5000 [==============================] - 10s 2ms/step - loss: 2.3027 - accuracy: 0.1009 - val_loss: 2.3099 - val_accuracy: 0.0996\n",
            "Epoch 21/25\n",
            "5000/5000 [==============================] - 10s 2ms/step - loss: 2.3027 - accuracy: 0.0966 - val_loss: 2.3099 - val_accuracy: 0.1001\n",
            "Epoch 22/25\n",
            "5000/5000 [==============================] - 10s 2ms/step - loss: 2.3027 - accuracy: 0.0985 - val_loss: 2.3099 - val_accuracy: 0.1001\n",
            "Epoch 23/25\n",
            "5000/5000 [==============================] - 10s 2ms/step - loss: 2.3027 - accuracy: 0.0987 - val_loss: 2.3099 - val_accuracy: 0.1002\n",
            "Epoch 24/25\n",
            "5000/5000 [==============================] - 10s 2ms/step - loss: 2.3026 - accuracy: 0.1003 - val_loss: 2.3101 - val_accuracy: 0.0988\n",
            "Epoch 25/25\n",
            "5000/5000 [==============================] - 10s 2ms/step - loss: 2.3026 - accuracy: 0.1003 - val_loss: 2.3100 - val_accuracy: 0.0988\n"
          ],
          "name": "stdout"
        }
      ]
    },
    {
      "cell_type": "code",
      "metadata": {
        "id": "Un9D0W6vwD6f",
        "colab_type": "code",
        "colab": {
          "base_uri": "https://localhost:8080/",
          "height": 884
        },
        "outputId": "d34efe3d-5077-456c-a8d7-a77570ebdaa9"
      },
      "source": [
        "model = create_model()\n",
        "\n",
        "bt_8 = model.fit(X_train, \n",
        "                       y_train,\n",
        "                       epochs=25,\n",
        "                       batch_size=8,\n",
        "                       validation_data=(X_test, y_test)\n",
        ")"
      ],
      "execution_count": 16,
      "outputs": [
        {
          "output_type": "stream",
          "text": [
            "Epoch 1/25\n",
            "10000/10000 [==============================] - 19s 2ms/step - loss: 3.6756 - accuracy: 0.1008 - val_loss: 2.3031 - val_accuracy: 0.1001\n",
            "Epoch 2/25\n",
            "10000/10000 [==============================] - 19s 2ms/step - loss: 2.3048 - accuracy: 0.0991 - val_loss: 2.3034 - val_accuracy: 0.1001\n",
            "Epoch 3/25\n",
            "10000/10000 [==============================] - 19s 2ms/step - loss: 2.3029 - accuracy: 0.0998 - val_loss: 2.3047 - val_accuracy: 0.1002\n",
            "Epoch 4/25\n",
            "10000/10000 [==============================] - 19s 2ms/step - loss: 2.3028 - accuracy: 0.0979 - val_loss: 2.3047 - val_accuracy: 0.1001\n",
            "Epoch 5/25\n",
            "10000/10000 [==============================] - 19s 2ms/step - loss: 2.3028 - accuracy: 0.0998 - val_loss: 2.3049 - val_accuracy: 0.0988\n",
            "Epoch 6/25\n",
            "10000/10000 [==============================] - 19s 2ms/step - loss: 2.3028 - accuracy: 0.0987 - val_loss: 2.3047 - val_accuracy: 0.0993\n",
            "Epoch 7/25\n",
            "10000/10000 [==============================] - 20s 2ms/step - loss: 2.3028 - accuracy: 0.0987 - val_loss: 2.3047 - val_accuracy: 0.1002\n",
            "Epoch 8/25\n",
            "10000/10000 [==============================] - 19s 2ms/step - loss: 2.3028 - accuracy: 0.1005 - val_loss: 2.3047 - val_accuracy: 0.0996\n",
            "Epoch 9/25\n",
            "10000/10000 [==============================] - 19s 2ms/step - loss: 2.3028 - accuracy: 0.1005 - val_loss: 2.3048 - val_accuracy: 0.1001\n",
            "Epoch 10/25\n",
            "10000/10000 [==============================] - 19s 2ms/step - loss: 2.3028 - accuracy: 0.1003 - val_loss: 2.3047 - val_accuracy: 0.0993\n",
            "Epoch 11/25\n",
            "10000/10000 [==============================] - 19s 2ms/step - loss: 2.3028 - accuracy: 0.1010 - val_loss: 2.3047 - val_accuracy: 0.0993\n",
            "Epoch 12/25\n",
            "10000/10000 [==============================] - 19s 2ms/step - loss: 2.3028 - accuracy: 0.0988 - val_loss: 2.3048 - val_accuracy: 0.0993\n",
            "Epoch 13/25\n",
            "10000/10000 [==============================] - 19s 2ms/step - loss: 2.3028 - accuracy: 0.0977 - val_loss: 2.3046 - val_accuracy: 0.1000\n",
            "Epoch 14/25\n",
            "10000/10000 [==============================] - 19s 2ms/step - loss: 2.3028 - accuracy: 0.0996 - val_loss: 2.3049 - val_accuracy: 0.1002\n",
            "Epoch 15/25\n",
            "10000/10000 [==============================] - 19s 2ms/step - loss: 2.3028 - accuracy: 0.0991 - val_loss: 2.3047 - val_accuracy: 0.1002\n",
            "Epoch 16/25\n",
            "10000/10000 [==============================] - 19s 2ms/step - loss: 2.3028 - accuracy: 0.0974 - val_loss: 2.3047 - val_accuracy: 0.0996\n",
            "Epoch 17/25\n",
            "10000/10000 [==============================] - 19s 2ms/step - loss: 2.3028 - accuracy: 0.0989 - val_loss: 2.3048 - val_accuracy: 0.1001\n",
            "Epoch 18/25\n",
            "10000/10000 [==============================] - 19s 2ms/step - loss: 2.3027 - accuracy: 0.1015 - val_loss: 2.3047 - val_accuracy: 0.1000\n",
            "Epoch 19/25\n",
            "10000/10000 [==============================] - 19s 2ms/step - loss: 2.3028 - accuracy: 0.0992 - val_loss: 2.3049 - val_accuracy: 0.0993\n",
            "Epoch 20/25\n",
            "10000/10000 [==============================] - 19s 2ms/step - loss: 2.3027 - accuracy: 0.1003 - val_loss: 2.3048 - val_accuracy: 0.1001\n",
            "Epoch 21/25\n",
            "10000/10000 [==============================] - 19s 2ms/step - loss: 2.3028 - accuracy: 0.0992 - val_loss: 2.3047 - val_accuracy: 0.0996\n",
            "Epoch 22/25\n",
            "10000/10000 [==============================] - 19s 2ms/step - loss: 2.3028 - accuracy: 0.1005 - val_loss: 2.3048 - val_accuracy: 0.1001\n",
            "Epoch 23/25\n",
            "10000/10000 [==============================] - 21s 2ms/step - loss: 2.3028 - accuracy: 0.0993 - val_loss: 2.3049 - val_accuracy: 0.0996\n",
            "Epoch 24/25\n",
            "10000/10000 [==============================] - 19s 2ms/step - loss: 2.3028 - accuracy: 0.0998 - val_loss: 2.3048 - val_accuracy: 0.1006\n",
            "Epoch 25/25\n",
            "10000/10000 [==============================] - 19s 2ms/step - loss: 2.3028 - accuracy: 0.0986 - val_loss: 2.3046 - val_accuracy: 0.0993\n"
          ],
          "name": "stdout"
        }
      ]
    },
    {
      "cell_type": "code",
      "metadata": {
        "id": "KOPsRCbQwD9W",
        "colab_type": "code",
        "colab": {
          "base_uri": "https://localhost:8080/",
          "height": 884
        },
        "outputId": "4df3027a-0b2b-43a2-b719-0417cc59477b"
      },
      "source": [
        "model = create_model()\n",
        "\n",
        "bt_64 = model.fit(X_train, \n",
        "                       y_train,\n",
        "                       epochs=25,\n",
        "                       batch_size=64,\n",
        "                       validation_data=(X_test, y_test)\n",
        ")"
      ],
      "execution_count": 17,
      "outputs": [
        {
          "output_type": "stream",
          "text": [
            "Epoch 1/25\n",
            "1250/1250 [==============================] - 3s 2ms/step - loss: 3.0275 - accuracy: 0.1006 - val_loss: 2.3022 - val_accuracy: 0.1009\n",
            "Epoch 2/25\n",
            "1250/1250 [==============================] - 2s 2ms/step - loss: 2.3006 - accuracy: 0.1002 - val_loss: 2.2996 - val_accuracy: 0.1035\n",
            "Epoch 3/25\n",
            "1250/1250 [==============================] - 2s 2ms/step - loss: 2.2898 - accuracy: 0.1058 - val_loss: 2.2695 - val_accuracy: 0.1236\n",
            "Epoch 4/25\n",
            "1250/1250 [==============================] - 2s 2ms/step - loss: 2.2310 - accuracy: 0.1419 - val_loss: 2.2266 - val_accuracy: 0.1412\n",
            "Epoch 5/25\n",
            "1250/1250 [==============================] - 2s 2ms/step - loss: 2.2463 - accuracy: 0.1316 - val_loss: 2.3071 - val_accuracy: 0.1001\n",
            "Epoch 6/25\n",
            "1250/1250 [==============================] - 2s 2ms/step - loss: 2.3042 - accuracy: 0.0983 - val_loss: 2.3036 - val_accuracy: 0.1001\n",
            "Epoch 7/25\n",
            "1250/1250 [==============================] - 2s 2ms/step - loss: 2.3036 - accuracy: 0.0985 - val_loss: 2.2689 - val_accuracy: 0.1246\n",
            "Epoch 8/25\n",
            "1250/1250 [==============================] - 2s 2ms/step - loss: 2.2953 - accuracy: 0.1049 - val_loss: 2.3034 - val_accuracy: 0.0993\n",
            "Epoch 9/25\n",
            "1250/1250 [==============================] - 2s 2ms/step - loss: 2.3026 - accuracy: 0.0981 - val_loss: 2.3033 - val_accuracy: 0.1001\n",
            "Epoch 10/25\n",
            "1250/1250 [==============================] - 2s 2ms/step - loss: 2.3025 - accuracy: 0.0970 - val_loss: 2.3034 - val_accuracy: 0.0989\n",
            "Epoch 11/25\n",
            "1250/1250 [==============================] - 2s 2ms/step - loss: 2.3025 - accuracy: 0.0987 - val_loss: 2.3034 - val_accuracy: 0.0993\n",
            "Epoch 12/25\n",
            "1250/1250 [==============================] - 2s 2ms/step - loss: 2.3025 - accuracy: 0.0976 - val_loss: 2.3034 - val_accuracy: 0.1001\n",
            "Epoch 13/25\n",
            "1250/1250 [==============================] - 2s 2ms/step - loss: 2.3025 - accuracy: 0.0998 - val_loss: 2.3034 - val_accuracy: 0.1002\n",
            "Epoch 14/25\n",
            "1250/1250 [==============================] - 2s 2ms/step - loss: 2.3025 - accuracy: 0.0988 - val_loss: 2.3034 - val_accuracy: 0.0993\n",
            "Epoch 15/25\n",
            "1250/1250 [==============================] - 2s 2ms/step - loss: 2.3025 - accuracy: 0.0993 - val_loss: 2.3034 - val_accuracy: 0.0996\n",
            "Epoch 16/25\n",
            "1250/1250 [==============================] - 2s 2ms/step - loss: 2.3025 - accuracy: 0.0985 - val_loss: 2.3034 - val_accuracy: 0.0993\n",
            "Epoch 17/25\n",
            "1250/1250 [==============================] - 2s 2ms/step - loss: 2.3006 - accuracy: 0.1314 - val_loss: 2.2977 - val_accuracy: 0.1759\n",
            "Epoch 18/25\n",
            "1250/1250 [==============================] - 2s 2ms/step - loss: 2.2808 - accuracy: 0.1808 - val_loss: 2.2507 - val_accuracy: 0.1814\n",
            "Epoch 19/25\n",
            "1250/1250 [==============================] - 2s 2ms/step - loss: 2.1879 - accuracy: 0.1830 - val_loss: 2.1186 - val_accuracy: 0.1852\n",
            "Epoch 20/25\n",
            "1250/1250 [==============================] - 2s 2ms/step - loss: 2.0699 - accuracy: 0.1868 - val_loss: 2.0285 - val_accuracy: 0.1913\n",
            "Epoch 21/25\n",
            "1250/1250 [==============================] - 2s 2ms/step - loss: 2.0201 - accuracy: 0.1901 - val_loss: 2.0009 - val_accuracy: 0.1900\n",
            "Epoch 22/25\n",
            "1250/1250 [==============================] - 2s 2ms/step - loss: 2.0065 - accuracy: 0.1883 - val_loss: 1.9875 - val_accuracy: 0.1890\n",
            "Epoch 23/25\n",
            "1250/1250 [==============================] - 2s 2ms/step - loss: 1.9805 - accuracy: 0.1911 - val_loss: 1.9708 - val_accuracy: 0.1914\n",
            "Epoch 24/25\n",
            "1250/1250 [==============================] - 2s 2ms/step - loss: 1.9682 - accuracy: 0.1933 - val_loss: 1.9635 - val_accuracy: 0.1925\n",
            "Epoch 25/25\n",
            "1250/1250 [==============================] - 2s 2ms/step - loss: 1.9622 - accuracy: 0.1944 - val_loss: 1.9588 - val_accuracy: 0.1919\n"
          ],
          "name": "stdout"
        }
      ]
    },
    {
      "cell_type": "code",
      "metadata": {
        "id": "RimQfBYYwEAG",
        "colab_type": "code",
        "colab": {
          "base_uri": "https://localhost:8080/",
          "height": 884
        },
        "outputId": "337789bf-6e9e-4a59-e323-8823a338bdbc"
      },
      "source": [
        "model = create_model()\n",
        "\n",
        "bt_128 = model.fit(X_train, \n",
        "                       y_train,\n",
        "                       epochs=25,\n",
        "                       batch_size=128,\n",
        "                       validation_data=(X_test, y_test)\n",
        ")"
      ],
      "execution_count": 18,
      "outputs": [
        {
          "output_type": "stream",
          "text": [
            "Epoch 1/25\n",
            "625/625 [==============================] - 1s 2ms/step - loss: 6.8858 - accuracy: 0.1053 - val_loss: 2.3054 - val_accuracy: 0.0988\n",
            "Epoch 2/25\n",
            "625/625 [==============================] - 1s 2ms/step - loss: 2.3029 - accuracy: 0.0994 - val_loss: 2.3036 - val_accuracy: 0.0993\n",
            "Epoch 3/25\n",
            "625/625 [==============================] - 1s 2ms/step - loss: 2.3027 - accuracy: 0.0987 - val_loss: 2.3026 - val_accuracy: 0.0988\n",
            "Epoch 4/25\n",
            "625/625 [==============================] - 1s 2ms/step - loss: 2.3026 - accuracy: 0.0984 - val_loss: 2.3026 - val_accuracy: 0.0988\n",
            "Epoch 5/25\n",
            "625/625 [==============================] - 1s 2ms/step - loss: 2.3026 - accuracy: 0.0998 - val_loss: 2.3026 - val_accuracy: 0.0988\n",
            "Epoch 6/25\n",
            "625/625 [==============================] - 1s 2ms/step - loss: 2.3026 - accuracy: 0.0987 - val_loss: 2.3026 - val_accuracy: 0.0988\n",
            "Epoch 7/25\n",
            "625/625 [==============================] - 1s 2ms/step - loss: 2.3026 - accuracy: 0.0987 - val_loss: 2.3026 - val_accuracy: 0.0988\n",
            "Epoch 8/25\n",
            "625/625 [==============================] - 1s 2ms/step - loss: 2.3026 - accuracy: 0.0990 - val_loss: 2.3026 - val_accuracy: 0.0993\n",
            "Epoch 9/25\n",
            "625/625 [==============================] - 1s 2ms/step - loss: 2.3026 - accuracy: 0.0979 - val_loss: 2.3026 - val_accuracy: 0.0993\n",
            "Epoch 10/25\n",
            "625/625 [==============================] - 1s 2ms/step - loss: 2.3026 - accuracy: 0.0986 - val_loss: 2.3026 - val_accuracy: 0.0993\n",
            "Epoch 11/25\n",
            "625/625 [==============================] - 1s 2ms/step - loss: 2.3026 - accuracy: 0.0986 - val_loss: 2.3026 - val_accuracy: 0.0993\n",
            "Epoch 12/25\n",
            "625/625 [==============================] - 1s 2ms/step - loss: 2.3026 - accuracy: 0.0987 - val_loss: 2.3026 - val_accuracy: 0.0988\n",
            "Epoch 13/25\n",
            "625/625 [==============================] - 1s 2ms/step - loss: 2.3026 - accuracy: 0.0988 - val_loss: 2.3026 - val_accuracy: 0.0988\n",
            "Epoch 14/25\n",
            "625/625 [==============================] - 1s 2ms/step - loss: 2.3026 - accuracy: 0.0990 - val_loss: 2.3026 - val_accuracy: 0.0993\n",
            "Epoch 15/25\n",
            "625/625 [==============================] - 1s 2ms/step - loss: 2.3026 - accuracy: 0.0995 - val_loss: 2.3026 - val_accuracy: 0.0988\n",
            "Epoch 16/25\n",
            "625/625 [==============================] - 1s 2ms/step - loss: 2.3026 - accuracy: 0.0994 - val_loss: 2.3026 - val_accuracy: 0.0993\n",
            "Epoch 17/25\n",
            "625/625 [==============================] - 1s 2ms/step - loss: 2.3026 - accuracy: 0.0994 - val_loss: 2.3026 - val_accuracy: 0.0993\n",
            "Epoch 18/25\n",
            "625/625 [==============================] - 1s 2ms/step - loss: 2.3026 - accuracy: 0.0966 - val_loss: 2.3026 - val_accuracy: 0.0993\n",
            "Epoch 19/25\n",
            "625/625 [==============================] - 1s 2ms/step - loss: 2.3026 - accuracy: 0.0983 - val_loss: 2.3026 - val_accuracy: 0.0993\n",
            "Epoch 20/25\n",
            "625/625 [==============================] - 1s 2ms/step - loss: 2.3026 - accuracy: 0.0975 - val_loss: 2.3026 - val_accuracy: 0.0993\n",
            "Epoch 21/25\n",
            "625/625 [==============================] - 1s 2ms/step - loss: 2.3026 - accuracy: 0.0990 - val_loss: 2.3026 - val_accuracy: 0.0988\n",
            "Epoch 22/25\n",
            "625/625 [==============================] - 1s 2ms/step - loss: 2.3026 - accuracy: 0.0981 - val_loss: 2.3026 - val_accuracy: 0.0988\n",
            "Epoch 23/25\n",
            "625/625 [==============================] - 1s 2ms/step - loss: 2.3026 - accuracy: 0.0985 - val_loss: 2.3026 - val_accuracy: 0.0988\n",
            "Epoch 24/25\n",
            "625/625 [==============================] - 1s 2ms/step - loss: 2.3026 - accuracy: 0.0986 - val_loss: 2.3026 - val_accuracy: 0.0988\n",
            "Epoch 25/25\n",
            "625/625 [==============================] - 1s 2ms/step - loss: 2.3025 - accuracy: 0.0984 - val_loss: 2.3026 - val_accuracy: 0.0988\n"
          ],
          "name": "stdout"
        }
      ]
    },
    {
      "cell_type": "code",
      "metadata": {
        "id": "fUTsAmolB5F9",
        "colab_type": "code",
        "colab": {
          "base_uri": "https://localhost:8080/",
          "height": 202
        },
        "outputId": "f25cc7f7-5d67-4b45-b5d1-d99050a0fc46"
      },
      "source": [
        "import seaborn as sns\n",
        "import pandas as pd\n",
        "\n",
        "batch_sizes = []\n",
        "\n",
        "for exp, result in zip([bt_default, bt_16, bt_8, bt_64, bt_128], [\"32_\", \"16_\", \"8_\", \"64_\", \"128_\"]):\n",
        "    df = pd.DataFrame.from_dict(exp.history)\n",
        "    df['epoch'] = df.index.values\n",
        "    df['Batch Size'] = result\n",
        "    batch_sizes.append(df)\n",
        "\n",
        "df = pd.concat(batch_sizes)\n",
        "df['Batch Size'] = df['Batch Size'].astype('str')\n",
        "df.head()"
      ],
      "execution_count": 20,
      "outputs": [
        {
          "output_type": "execute_result",
          "data": {
            "text/html": [
              "<div>\n",
              "<style scoped>\n",
              "    .dataframe tbody tr th:only-of-type {\n",
              "        vertical-align: middle;\n",
              "    }\n",
              "\n",
              "    .dataframe tbody tr th {\n",
              "        vertical-align: top;\n",
              "    }\n",
              "\n",
              "    .dataframe thead th {\n",
              "        text-align: right;\n",
              "    }\n",
              "</style>\n",
              "<table border=\"1\" class=\"dataframe\">\n",
              "  <thead>\n",
              "    <tr style=\"text-align: right;\">\n",
              "      <th></th>\n",
              "      <th>loss</th>\n",
              "      <th>accuracy</th>\n",
              "      <th>val_loss</th>\n",
              "      <th>val_accuracy</th>\n",
              "      <th>epoch</th>\n",
              "      <th>Batch Size</th>\n",
              "    </tr>\n",
              "  </thead>\n",
              "  <tbody>\n",
              "    <tr>\n",
              "      <th>0</th>\n",
              "      <td>86.968170</td>\n",
              "      <td>0.099563</td>\n",
              "      <td>2.329689</td>\n",
              "      <td>0.1000</td>\n",
              "      <td>0</td>\n",
              "      <td>32_</td>\n",
              "    </tr>\n",
              "    <tr>\n",
              "      <th>1</th>\n",
              "      <td>2.320731</td>\n",
              "      <td>0.098537</td>\n",
              "      <td>2.496250</td>\n",
              "      <td>0.1002</td>\n",
              "      <td>1</td>\n",
              "      <td>32_</td>\n",
              "    </tr>\n",
              "    <tr>\n",
              "      <th>2</th>\n",
              "      <td>2.302645</td>\n",
              "      <td>0.098300</td>\n",
              "      <td>2.496272</td>\n",
              "      <td>0.1002</td>\n",
              "      <td>2</td>\n",
              "      <td>32_</td>\n",
              "    </tr>\n",
              "    <tr>\n",
              "      <th>3</th>\n",
              "      <td>2.302658</td>\n",
              "      <td>0.099650</td>\n",
              "      <td>2.496190</td>\n",
              "      <td>0.1000</td>\n",
              "      <td>3</td>\n",
              "      <td>32_</td>\n",
              "    </tr>\n",
              "    <tr>\n",
              "      <th>4</th>\n",
              "      <td>2.302635</td>\n",
              "      <td>0.099575</td>\n",
              "      <td>2.496093</td>\n",
              "      <td>0.0993</td>\n",
              "      <td>4</td>\n",
              "      <td>32_</td>\n",
              "    </tr>\n",
              "  </tbody>\n",
              "</table>\n",
              "</div>"
            ],
            "text/plain": [
              "        loss  accuracy  val_loss  val_accuracy  epoch Batch Size\n",
              "0  86.968170  0.099563  2.329689        0.1000      0        32_\n",
              "1   2.320731  0.098537  2.496250        0.1002      1        32_\n",
              "2   2.302645  0.098300  2.496272        0.1002      2        32_\n",
              "3   2.302658  0.099650  2.496190        0.1000      3        32_\n",
              "4   2.302635  0.099575  2.496093        0.0993      4        32_"
            ]
          },
          "metadata": {
            "tags": []
          },
          "execution_count": 20
        }
      ]
    },
    {
      "cell_type": "code",
      "metadata": {
        "id": "_r6wsVkYCQg5",
        "colab_type": "code",
        "colab": {
          "base_uri": "https://localhost:8080/",
          "height": 279
        },
        "outputId": "b6bf89e1-3407-48c9-e099-b1b8cfed12f7"
      },
      "source": [
        "sns.lineplot(x='epoch', y='val_accuracy', hue='Batch Size', data=df);"
      ],
      "execution_count": 21,
      "outputs": [
        {
          "output_type": "display_data",
          "data": {
            "image/png": "[encoded data removed]",
            "text/plain": [
              "<Figure size 432x288 with 1 Axes>"
            ]
          },
          "metadata": {
            "tags": [],
            "needs_background": "light"
          }
        }
      ]
    },
    {
      "cell_type": "markdown",
      "metadata": {
        "colab_type": "text",
        "id": "8b-r70o8p2Dm"
      },
      "source": [
        "### Experiment with Learning Rate\n",
        "* Run 5 experiments with various learning rate magnitudes: 1, .1, .01, .001, .0001.\n",
        "* Use the \"best\" batch size from the previous experiment\n",
        "* Visualize the results\n",
        "* Write up an analysis of the experiments and select the \"best\" performing model among your experiments. Make sure to compare against the previous experiments and your model's performance yesterday. "
      ]
    },
    {
      "cell_type": "code",
      "metadata": {
        "id": "_SA144xx8Luf",
        "colab_type": "code",
        "colab": {
          "base_uri": "https://localhost:8080/",
          "height": 884
        },
        "outputId": "4669babe-51f8-406c-866f-de3037c01848"
      },
      "source": [
        "model = create_model(lr=0.01)\n",
        "\n",
        "bt_base = model.fit(X_train, \n",
        "                       y_train,\n",
        "                       epochs=25,\n",
        "                       batch_size=64,\n",
        "                       validation_data=(X_test, y_test)\n",
        ")"
      ],
      "execution_count": 22,
      "outputs": [
        {
          "output_type": "stream",
          "text": [
            "Epoch 1/25\n",
            "1250/1250 [==============================] - 3s 2ms/step - loss: 8.1623 - accuracy: 0.0989 - val_loss: 2.3078 - val_accuracy: 0.0988\n",
            "Epoch 2/25\n",
            "1250/1250 [==============================] - 3s 2ms/step - loss: 2.3047 - accuracy: 0.0995 - val_loss: 2.3062 - val_accuracy: 0.0988\n",
            "Epoch 3/25\n",
            "1250/1250 [==============================] - 3s 2ms/step - loss: 2.3027 - accuracy: 0.0994 - val_loss: 2.3062 - val_accuracy: 0.1001\n",
            "Epoch 4/25\n",
            "1250/1250 [==============================] - 3s 2ms/step - loss: 2.3026 - accuracy: 0.0981 - val_loss: 2.3062 - val_accuracy: 0.0996\n",
            "Epoch 5/25\n",
            "1250/1250 [==============================] - 2s 2ms/step - loss: 2.3026 - accuracy: 0.0986 - val_loss: 2.3062 - val_accuracy: 0.0993\n",
            "Epoch 6/25\n",
            "1250/1250 [==============================] - 2s 2ms/step - loss: 2.3025 - accuracy: 0.0971 - val_loss: 2.3063 - val_accuracy: 0.0988\n",
            "Epoch 7/25\n",
            "1250/1250 [==============================] - 3s 2ms/step - loss: 2.3025 - accuracy: 0.0986 - val_loss: 2.3062 - val_accuracy: 0.0993\n",
            "Epoch 8/25\n",
            "1250/1250 [==============================] - 3s 2ms/step - loss: 2.3025 - accuracy: 0.0978 - val_loss: 2.3063 - val_accuracy: 0.0988\n",
            "Epoch 9/25\n",
            "1250/1250 [==============================] - 2s 2ms/step - loss: 2.3025 - accuracy: 0.0995 - val_loss: 2.3063 - val_accuracy: 0.1002\n",
            "Epoch 10/25\n",
            "1250/1250 [==============================] - 3s 2ms/step - loss: 2.3025 - accuracy: 0.0996 - val_loss: 2.3063 - val_accuracy: 0.0993\n",
            "Epoch 11/25\n",
            "1250/1250 [==============================] - 2s 2ms/step - loss: 2.3025 - accuracy: 0.0986 - val_loss: 2.3063 - val_accuracy: 0.0993\n",
            "Epoch 12/25\n",
            "1250/1250 [==============================] - 3s 2ms/step - loss: 2.3025 - accuracy: 0.0981 - val_loss: 2.3062 - val_accuracy: 0.0993\n",
            "Epoch 13/25\n",
            "1250/1250 [==============================] - 3s 2ms/step - loss: 2.3025 - accuracy: 0.0990 - val_loss: 2.3063 - val_accuracy: 0.1001\n",
            "Epoch 14/25\n",
            "1250/1250 [==============================] - 3s 2ms/step - loss: 2.3025 - accuracy: 0.0987 - val_loss: 2.3062 - val_accuracy: 0.0993\n",
            "Epoch 15/25\n",
            "1250/1250 [==============================] - 3s 2ms/step - loss: 2.3025 - accuracy: 0.0997 - val_loss: 2.3062 - val_accuracy: 0.1001\n",
            "Epoch 16/25\n",
            "1250/1250 [==============================] - 3s 2ms/step - loss: 2.3025 - accuracy: 0.0982 - val_loss: 2.3063 - val_accuracy: 0.1001\n",
            "Epoch 17/25\n",
            "1250/1250 [==============================] - 3s 2ms/step - loss: 2.3025 - accuracy: 0.0990 - val_loss: 2.3062 - val_accuracy: 0.0993\n",
            "Epoch 18/25\n",
            "1250/1250 [==============================] - 2s 2ms/step - loss: 2.3025 - accuracy: 0.0983 - val_loss: 2.3063 - val_accuracy: 0.0988\n",
            "Epoch 19/25\n",
            "1250/1250 [==============================] - 3s 2ms/step - loss: 2.3025 - accuracy: 0.0985 - val_loss: 2.3062 - val_accuracy: 0.0988\n",
            "Epoch 20/25\n",
            "1250/1250 [==============================] - 3s 2ms/step - loss: 2.3025 - accuracy: 0.0985 - val_loss: 2.3063 - val_accuracy: 0.0993\n",
            "Epoch 21/25\n",
            "1250/1250 [==============================] - 2s 2ms/step - loss: 2.3025 - accuracy: 0.0994 - val_loss: 2.3062 - val_accuracy: 0.0993\n",
            "Epoch 22/25\n",
            "1250/1250 [==============================] - 3s 2ms/step - loss: 2.3025 - accuracy: 0.0980 - val_loss: 2.3062 - val_accuracy: 0.0996\n",
            "Epoch 23/25\n",
            "1250/1250 [==============================] - 3s 2ms/step - loss: 2.3025 - accuracy: 0.0995 - val_loss: 2.3062 - val_accuracy: 0.0993\n",
            "Epoch 24/25\n",
            "1250/1250 [==============================] - 3s 2ms/step - loss: 2.3025 - accuracy: 0.0993 - val_loss: 2.3063 - val_accuracy: 0.0988\n",
            "Epoch 25/25\n",
            "1250/1250 [==============================] - 3s 2ms/step - loss: 2.3025 - accuracy: 0.0986 - val_loss: 2.3063 - val_accuracy: 0.1001\n"
          ],
          "name": "stdout"
        }
      ]
    },
    {
      "cell_type": "code",
      "metadata": {
        "id": "XSenvd56DIDg",
        "colab_type": "code",
        "colab": {
          "base_uri": "https://localhost:8080/",
          "height": 884
        },
        "outputId": "cf817060-44f6-42ff-d600-a9d4c98b2293"
      },
      "source": [
        "model = create_model(lr=0.1)\n",
        "\n",
        "bt_lr_01 = model.fit(X_train, \n",
        "                       y_train,\n",
        "                       epochs=25,\n",
        "                       batch_size=64,\n",
        "                       validation_data=(X_test, y_test)\n",
        ")"
      ],
      "execution_count": 23,
      "outputs": [
        {
          "output_type": "stream",
          "text": [
            "Epoch 1/25\n",
            "1250/1250 [==============================] - 3s 2ms/step - loss: 124.4445 - accuracy: 0.1002 - val_loss: 5.2228 - val_accuracy: 0.1000\n",
            "Epoch 2/25\n",
            "1250/1250 [==============================] - 3s 2ms/step - loss: 2.3355 - accuracy: 0.0999 - val_loss: 2.3030 - val_accuracy: 0.0988\n",
            "Epoch 3/25\n",
            "1250/1250 [==============================] - 2s 2ms/step - loss: 2.3030 - accuracy: 0.1018 - val_loss: 2.3028 - val_accuracy: 0.1006\n",
            "Epoch 4/25\n",
            "1250/1250 [==============================] - 3s 2ms/step - loss: 2.3029 - accuracy: 0.0996 - val_loss: 2.3029 - val_accuracy: 0.0993\n",
            "Epoch 5/25\n",
            "1250/1250 [==============================] - 2s 2ms/step - loss: 2.3030 - accuracy: 0.0998 - val_loss: 2.3029 - val_accuracy: 0.1002\n",
            "Epoch 6/25\n",
            "1250/1250 [==============================] - 3s 2ms/step - loss: 2.3030 - accuracy: 0.1006 - val_loss: 2.3029 - val_accuracy: 0.1006\n",
            "Epoch 7/25\n",
            "1250/1250 [==============================] - 2s 2ms/step - loss: 2.3030 - accuracy: 0.0983 - val_loss: 2.3028 - val_accuracy: 0.1002\n",
            "Epoch 8/25\n",
            "1250/1250 [==============================] - 3s 2ms/step - loss: 2.3029 - accuracy: 0.1008 - val_loss: 2.3029 - val_accuracy: 0.1006\n",
            "Epoch 9/25\n",
            "1250/1250 [==============================] - 2s 2ms/step - loss: 2.3030 - accuracy: 0.1020 - val_loss: 2.3028 - val_accuracy: 0.0988\n",
            "Epoch 10/25\n",
            "1250/1250 [==============================] - 2s 2ms/step - loss: 2.3030 - accuracy: 0.1004 - val_loss: 2.3030 - val_accuracy: 0.0996\n",
            "Epoch 11/25\n",
            "1250/1250 [==============================] - 2s 2ms/step - loss: 2.3030 - accuracy: 0.0996 - val_loss: 2.3027 - val_accuracy: 0.1000\n",
            "Epoch 12/25\n",
            "1250/1250 [==============================] - 2s 2ms/step - loss: 2.3030 - accuracy: 0.0986 - val_loss: 2.3030 - val_accuracy: 0.1001\n",
            "Epoch 13/25\n",
            "1250/1250 [==============================] - 2s 2ms/step - loss: 2.3030 - accuracy: 0.0990 - val_loss: 2.3031 - val_accuracy: 0.1001\n",
            "Epoch 14/25\n",
            "1250/1250 [==============================] - 3s 2ms/step - loss: 2.3030 - accuracy: 0.1003 - val_loss: 2.3027 - val_accuracy: 0.1006\n",
            "Epoch 15/25\n",
            "1250/1250 [==============================] - 3s 2ms/step - loss: 2.3030 - accuracy: 0.0993 - val_loss: 2.3028 - val_accuracy: 0.1000\n",
            "Epoch 16/25\n",
            "1250/1250 [==============================] - 3s 2ms/step - loss: 2.3030 - accuracy: 0.0982 - val_loss: 2.3028 - val_accuracy: 0.0988\n",
            "Epoch 17/25\n",
            "1250/1250 [==============================] - 3s 2ms/step - loss: 2.3030 - accuracy: 0.0985 - val_loss: 2.3028 - val_accuracy: 0.1002\n",
            "Epoch 18/25\n",
            "1250/1250 [==============================] - 3s 2ms/step - loss: 2.3031 - accuracy: 0.0975 - val_loss: 2.3028 - val_accuracy: 0.1006\n",
            "Epoch 19/25\n",
            "1250/1250 [==============================] - 3s 2ms/step - loss: 2.3029 - accuracy: 0.0994 - val_loss: 2.3028 - val_accuracy: 0.0993\n",
            "Epoch 20/25\n",
            "1250/1250 [==============================] - 3s 2ms/step - loss: 2.3030 - accuracy: 0.0986 - val_loss: 2.3027 - val_accuracy: 0.1001\n",
            "Epoch 21/25\n",
            "1250/1250 [==============================] - 3s 2ms/step - loss: 2.3030 - accuracy: 0.1007 - val_loss: 2.3029 - val_accuracy: 0.0988\n",
            "Epoch 22/25\n",
            "1250/1250 [==============================] - 3s 2ms/step - loss: 2.3030 - accuracy: 0.1010 - val_loss: 2.3030 - val_accuracy: 0.0988\n",
            "Epoch 23/25\n",
            "1250/1250 [==============================] - 3s 2ms/step - loss: 2.3029 - accuracy: 0.1000 - val_loss: 2.3032 - val_accuracy: 0.1001\n",
            "Epoch 24/25\n",
            "1250/1250 [==============================] - 3s 2ms/step - loss: 2.3030 - accuracy: 0.0988 - val_loss: 2.3029 - val_accuracy: 0.1000\n",
            "Epoch 25/25\n",
            "1250/1250 [==============================] - 3s 2ms/step - loss: 2.3030 - accuracy: 0.0987 - val_loss: 2.3035 - val_accuracy: 0.0993\n"
          ],
          "name": "stdout"
        }
      ]
    },
    {
      "cell_type": "code",
      "metadata": {
        "id": "nSj7xR_RHGkB",
        "colab_type": "code",
        "colab": {
          "base_uri": "https://localhost:8080/",
          "height": 884
        },
        "outputId": "932776c1-06a7-47c7-947c-307fd77fc073"
      },
      "source": [
        "model = create_model(lr=0.5)\n",
        "\n",
        "bt_lr_05 = model.fit(X_train, \n",
        "                       y_train,\n",
        "                       epochs=25,\n",
        "                       batch_size=64,\n",
        "                       validation_data=(X_test, y_test)\n",
        ")"
      ],
      "execution_count": 24,
      "outputs": [
        {
          "output_type": "stream",
          "text": [
            "Epoch 1/25\n",
            "1250/1250 [==============================] - 3s 2ms/step - loss: 275218784.0000 - accuracy: 0.1002 - val_loss: 2.3035 - val_accuracy: 0.1001\n",
            "Epoch 2/25\n",
            "1250/1250 [==============================] - 3s 2ms/step - loss: 4.2572 - accuracy: 0.1009 - val_loss: 2.3038 - val_accuracy: 0.0996\n",
            "Epoch 3/25\n",
            "1250/1250 [==============================] - 2s 2ms/step - loss: 2.3045 - accuracy: 0.0992 - val_loss: 2.3040 - val_accuracy: 0.1000\n",
            "Epoch 4/25\n",
            "1250/1250 [==============================] - 3s 2ms/step - loss: 2.3045 - accuracy: 0.1006 - val_loss: 2.3043 - val_accuracy: 0.1002\n",
            "Epoch 5/25\n",
            "1250/1250 [==============================] - 3s 2ms/step - loss: 2.3042 - accuracy: 0.0987 - val_loss: 2.3046 - val_accuracy: 0.1000\n",
            "Epoch 6/25\n",
            "1250/1250 [==============================] - 3s 2ms/step - loss: 2.3045 - accuracy: 0.0993 - val_loss: 2.3038 - val_accuracy: 0.1001\n",
            "Epoch 7/25\n",
            "1250/1250 [==============================] - 3s 2ms/step - loss: 2.3044 - accuracy: 0.1003 - val_loss: 2.3034 - val_accuracy: 0.1019\n",
            "Epoch 8/25\n",
            "1250/1250 [==============================] - 3s 2ms/step - loss: 2.3045 - accuracy: 0.0991 - val_loss: 2.3034 - val_accuracy: 0.0993\n",
            "Epoch 9/25\n",
            "1250/1250 [==============================] - 3s 2ms/step - loss: 2.3045 - accuracy: 0.1002 - val_loss: 2.3034 - val_accuracy: 0.0996\n",
            "Epoch 10/25\n",
            "1250/1250 [==============================] - 3s 2ms/step - loss: 2.3043 - accuracy: 0.0999 - val_loss: 2.3044 - val_accuracy: 0.0996\n",
            "Epoch 11/25\n",
            "1250/1250 [==============================] - 3s 2ms/step - loss: 2.3045 - accuracy: 0.0983 - val_loss: 2.3056 - val_accuracy: 0.1019\n",
            "Epoch 12/25\n",
            "1250/1250 [==============================] - 3s 2ms/step - loss: 2.3043 - accuracy: 0.0997 - val_loss: 2.3044 - val_accuracy: 0.0988\n",
            "Epoch 13/25\n",
            "1250/1250 [==============================] - 3s 2ms/step - loss: 2.3042 - accuracy: 0.1005 - val_loss: 2.3049 - val_accuracy: 0.1019\n",
            "Epoch 14/25\n",
            "1250/1250 [==============================] - 3s 2ms/step - loss: 2.3043 - accuracy: 0.0992 - val_loss: 2.3050 - val_accuracy: 0.1001\n",
            "Epoch 15/25\n",
            "1250/1250 [==============================] - 3s 2ms/step - loss: 2.3045 - accuracy: 0.0983 - val_loss: 2.3041 - val_accuracy: 0.0988\n",
            "Epoch 16/25\n",
            "1250/1250 [==============================] - 3s 2ms/step - loss: 2.3045 - accuracy: 0.1004 - val_loss: 2.3056 - val_accuracy: 0.0996\n",
            "Epoch 17/25\n",
            "1250/1250 [==============================] - 3s 2ms/step - loss: 2.3046 - accuracy: 0.0998 - val_loss: 2.3044 - val_accuracy: 0.1001\n",
            "Epoch 18/25\n",
            "1250/1250 [==============================] - 3s 2ms/step - loss: 2.3044 - accuracy: 0.0978 - val_loss: 2.3059 - val_accuracy: 0.1001\n",
            "Epoch 19/25\n",
            "1250/1250 [==============================] - 3s 2ms/step - loss: 2.3045 - accuracy: 0.1002 - val_loss: 2.3042 - val_accuracy: 0.1000\n",
            "Epoch 20/25\n",
            "1250/1250 [==============================] - 3s 2ms/step - loss: 2.3045 - accuracy: 0.0998 - val_loss: 2.3048 - val_accuracy: 0.0988\n",
            "Epoch 21/25\n",
            "1250/1250 [==============================] - 3s 2ms/step - loss: 2.3045 - accuracy: 0.1003 - val_loss: 2.3046 - val_accuracy: 0.1001\n",
            "Epoch 22/25\n",
            "1250/1250 [==============================] - 3s 2ms/step - loss: 2.3045 - accuracy: 0.0993 - val_loss: 2.3037 - val_accuracy: 0.1019\n",
            "Epoch 23/25\n",
            "1250/1250 [==============================] - 3s 2ms/step - loss: 2.3046 - accuracy: 0.1000 - val_loss: 2.3038 - val_accuracy: 0.1002\n",
            "Epoch 24/25\n",
            "1250/1250 [==============================] - 3s 2ms/step - loss: 2.3042 - accuracy: 0.1011 - val_loss: 2.3032 - val_accuracy: 0.0996\n",
            "Epoch 25/25\n",
            "1250/1250 [==============================] - 3s 2ms/step - loss: 2.3043 - accuracy: 0.0997 - val_loss: 2.3050 - val_accuracy: 0.0996\n"
          ],
          "name": "stdout"
        }
      ]
    },
    {
      "cell_type": "code",
      "metadata": {
        "id": "dLhB4v_HHbxx",
        "colab_type": "code",
        "colab": {
          "base_uri": "https://localhost:8080/",
          "height": 884
        },
        "outputId": "f5595bb3-46dd-480b-9fef-4d39ec31c09c"
      },
      "source": [
        "model = create_model(lr=0.005)\n",
        "\n",
        "bt_lr_0005 = model.fit(X_train, \n",
        "                       y_train,\n",
        "                       epochs=25,\n",
        "                       batch_size=64,\n",
        "                       validation_data=(X_test, y_test)\n",
        ")"
      ],
      "execution_count": 25,
      "outputs": [
        {
          "output_type": "stream",
          "text": [
            "Epoch 1/25\n",
            "1250/1250 [==============================] - 3s 2ms/step - loss: 4.2221 - accuracy: 0.1061 - val_loss: 2.2753 - val_accuracy: 0.1248\n",
            "Epoch 2/25\n",
            "1250/1250 [==============================] - 3s 2ms/step - loss: 2.2550 - accuracy: 0.1288 - val_loss: 2.2427 - val_accuracy: 0.1436\n",
            "Epoch 3/25\n",
            "1250/1250 [==============================] - 3s 2ms/step - loss: 2.1923 - accuracy: 0.1580 - val_loss: 2.2050 - val_accuracy: 0.1708\n",
            "Epoch 4/25\n",
            "1250/1250 [==============================] - 3s 2ms/step - loss: 2.1278 - accuracy: 0.1837 - val_loss: 2.0904 - val_accuracy: 0.1817\n",
            "Epoch 5/25\n",
            "1250/1250 [==============================] - 3s 2ms/step - loss: 2.0686 - accuracy: 0.2086 - val_loss: 2.0193 - val_accuracy: 0.2090\n",
            "Epoch 6/25\n",
            "1250/1250 [==============================] - 3s 2ms/step - loss: 1.9650 - accuracy: 0.2292 - val_loss: 1.9039 - val_accuracy: 0.2498\n",
            "Epoch 7/25\n",
            "1250/1250 [==============================] - 3s 2ms/step - loss: 1.8726 - accuracy: 0.2549 - val_loss: 1.8475 - val_accuracy: 0.2580\n",
            "Epoch 8/25\n",
            "1250/1250 [==============================] - 3s 2ms/step - loss: 1.8248 - accuracy: 0.2685 - val_loss: 1.8138 - val_accuracy: 0.2706\n",
            "Epoch 9/25\n",
            "1250/1250 [==============================] - 3s 2ms/step - loss: 1.7895 - accuracy: 0.2936 - val_loss: 1.7662 - val_accuracy: 0.3273\n",
            "Epoch 10/25\n",
            "1250/1250 [==============================] - 3s 2ms/step - loss: 1.6856 - accuracy: 0.3844 - val_loss: 1.6680 - val_accuracy: 0.3970\n",
            "Epoch 11/25\n",
            "1250/1250 [==============================] - 3s 2ms/step - loss: 1.5955 - accuracy: 0.4164 - val_loss: 1.5088 - val_accuracy: 0.4484\n",
            "Epoch 12/25\n",
            "1250/1250 [==============================] - 3s 2ms/step - loss: 1.5052 - accuracy: 0.4496 - val_loss: 1.4606 - val_accuracy: 0.4696\n",
            "Epoch 13/25\n",
            "1250/1250 [==============================] - 3s 2ms/step - loss: 1.4698 - accuracy: 0.4681 - val_loss: 1.4374 - val_accuracy: 0.4909\n",
            "Epoch 14/25\n",
            "1250/1250 [==============================] - 3s 2ms/step - loss: 1.4548 - accuracy: 0.4760 - val_loss: 1.4331 - val_accuracy: 0.4904\n",
            "Epoch 15/25\n",
            "1250/1250 [==============================] - 3s 2ms/step - loss: 1.4412 - accuracy: 0.4829 - val_loss: 1.4596 - val_accuracy: 0.4756\n",
            "Epoch 16/25\n",
            "1250/1250 [==============================] - 3s 2ms/step - loss: 1.4262 - accuracy: 0.4874 - val_loss: 1.4013 - val_accuracy: 0.4933\n",
            "Epoch 17/25\n",
            "1250/1250 [==============================] - 3s 2ms/step - loss: 1.4131 - accuracy: 0.4933 - val_loss: 1.3967 - val_accuracy: 0.4993\n",
            "Epoch 18/25\n",
            "1250/1250 [==============================] - 3s 2ms/step - loss: 1.3991 - accuracy: 0.4998 - val_loss: 1.4270 - val_accuracy: 0.4981\n",
            "Epoch 19/25\n",
            "1250/1250 [==============================] - 3s 2ms/step - loss: 1.3899 - accuracy: 0.5050 - val_loss: 1.4401 - val_accuracy: 0.4715\n",
            "Epoch 20/25\n",
            "1250/1250 [==============================] - 3s 2ms/step - loss: 1.3812 - accuracy: 0.5106 - val_loss: 1.3563 - val_accuracy: 0.5379\n",
            "Epoch 21/25\n",
            "1250/1250 [==============================] - 3s 2ms/step - loss: 1.3747 - accuracy: 0.5121 - val_loss: 1.4089 - val_accuracy: 0.4951\n",
            "Epoch 22/25\n",
            "1250/1250 [==============================] - 3s 2ms/step - loss: 1.3659 - accuracy: 0.5154 - val_loss: 1.3594 - val_accuracy: 0.5193\n",
            "Epoch 23/25\n",
            "1250/1250 [==============================] - 3s 2ms/step - loss: 1.3569 - accuracy: 0.5192 - val_loss: 1.4012 - val_accuracy: 0.5013\n",
            "Epoch 24/25\n",
            "1250/1250 [==============================] - 3s 2ms/step - loss: 1.3529 - accuracy: 0.5208 - val_loss: 1.3508 - val_accuracy: 0.5212\n",
            "Epoch 25/25\n",
            "1250/1250 [==============================] - 3s 2ms/step - loss: 1.3437 - accuracy: 0.5319 - val_loss: 1.3310 - val_accuracy: 0.5523\n"
          ],
          "name": "stdout"
        }
      ]
    },
    {
      "cell_type": "code",
      "metadata": {
        "id": "nStxHUsCH6Uf",
        "colab_type": "code",
        "colab": {
          "base_uri": "https://localhost:8080/",
          "height": 884
        },
        "outputId": "cf4ef957-0136-41a2-afce-b2e1cf3035cf"
      },
      "source": [
        "model = create_model(lr=0.00005)\n",
        "\n",
        "bt_lr_000005 = model.fit(X_train, \n",
        "                       y_train,\n",
        "                       epochs=25,\n",
        "                       batch_size=64,\n",
        "                       validation_data=(X_test, y_test)\n",
        ")"
      ],
      "execution_count": 26,
      "outputs": [
        {
          "output_type": "stream",
          "text": [
            "Epoch 1/25\n",
            "1250/1250 [==============================] - 3s 2ms/step - loss: 8.6116 - accuracy: 0.2546 - val_loss: 2.8382 - val_accuracy: 0.2715\n",
            "Epoch 2/25\n",
            "1250/1250 [==============================] - 3s 2ms/step - loss: 2.4110 - accuracy: 0.2964 - val_loss: 2.1953 - val_accuracy: 0.3068\n",
            "Epoch 3/25\n",
            "1250/1250 [==============================] - 3s 2ms/step - loss: 2.0741 - accuracy: 0.3243 - val_loss: 2.0138 - val_accuracy: 0.3307\n",
            "Epoch 4/25\n",
            "1250/1250 [==============================] - 3s 2ms/step - loss: 1.9461 - accuracy: 0.3409 - val_loss: 1.9219 - val_accuracy: 0.3417\n",
            "Epoch 5/25\n",
            "1250/1250 [==============================] - 3s 2ms/step - loss: 1.8708 - accuracy: 0.3521 - val_loss: 1.8610 - val_accuracy: 0.3519\n",
            "Epoch 6/25\n",
            "1250/1250 [==============================] - 3s 2ms/step - loss: 1.8161 - accuracy: 0.3582 - val_loss: 1.8111 - val_accuracy: 0.3582\n",
            "Epoch 7/25\n",
            "1250/1250 [==============================] - 3s 2ms/step - loss: 1.7732 - accuracy: 0.3681 - val_loss: 1.7735 - val_accuracy: 0.3747\n",
            "Epoch 8/25\n",
            "1250/1250 [==============================] - 3s 2ms/step - loss: 1.7388 - accuracy: 0.3940 - val_loss: 1.7447 - val_accuracy: 0.4026\n",
            "Epoch 9/25\n",
            "1250/1250 [==============================] - 3s 2ms/step - loss: 1.7109 - accuracy: 0.4069 - val_loss: 1.7184 - val_accuracy: 0.4078\n",
            "Epoch 10/25\n",
            "1250/1250 [==============================] - 3s 2ms/step - loss: 1.6867 - accuracy: 0.4130 - val_loss: 1.6966 - val_accuracy: 0.4144\n",
            "Epoch 11/25\n",
            "1250/1250 [==============================] - 3s 2ms/step - loss: 1.6670 - accuracy: 0.4179 - val_loss: 1.6784 - val_accuracy: 0.4189\n",
            "Epoch 12/25\n",
            "1250/1250 [==============================] - 3s 2ms/step - loss: 1.6499 - accuracy: 0.4221 - val_loss: 1.6622 - val_accuracy: 0.4233\n",
            "Epoch 13/25\n",
            "1250/1250 [==============================] - 3s 2ms/step - loss: 1.6340 - accuracy: 0.4277 - val_loss: 1.6462 - val_accuracy: 0.4300\n",
            "Epoch 14/25\n",
            "1250/1250 [==============================] - 3s 2ms/step - loss: 1.6189 - accuracy: 0.4326 - val_loss: 1.6353 - val_accuracy: 0.4353\n",
            "Epoch 15/25\n",
            "1250/1250 [==============================] - 3s 2ms/step - loss: 1.6050 - accuracy: 0.4359 - val_loss: 1.6229 - val_accuracy: 0.4372\n",
            "Epoch 16/25\n",
            "1250/1250 [==============================] - 3s 2ms/step - loss: 1.5922 - accuracy: 0.4399 - val_loss: 1.6107 - val_accuracy: 0.4403\n",
            "Epoch 17/25\n",
            "1250/1250 [==============================] - 3s 2ms/step - loss: 1.5810 - accuracy: 0.4422 - val_loss: 1.6025 - val_accuracy: 0.4441\n",
            "Epoch 18/25\n",
            "1250/1250 [==============================] - 3s 2ms/step - loss: 1.5704 - accuracy: 0.4456 - val_loss: 1.5916 - val_accuracy: 0.4500\n",
            "Epoch 19/25\n",
            "1250/1250 [==============================] - 3s 2ms/step - loss: 1.5605 - accuracy: 0.4523 - val_loss: 1.5819 - val_accuracy: 0.4541\n",
            "Epoch 20/25\n",
            "1250/1250 [==============================] - 3s 2ms/step - loss: 1.5513 - accuracy: 0.4554 - val_loss: 1.5738 - val_accuracy: 0.4568\n",
            "Epoch 21/25\n",
            "1250/1250 [==============================] - 3s 2ms/step - loss: 1.5425 - accuracy: 0.4567 - val_loss: 1.5642 - val_accuracy: 0.4582\n",
            "Epoch 22/25\n",
            "1250/1250 [==============================] - 3s 2ms/step - loss: 1.5342 - accuracy: 0.4586 - val_loss: 1.5570 - val_accuracy: 0.4605\n",
            "Epoch 23/25\n",
            "1250/1250 [==============================] - 3s 2ms/step - loss: 1.5259 - accuracy: 0.4605 - val_loss: 1.5482 - val_accuracy: 0.4629\n",
            "Epoch 24/25\n",
            "1250/1250 [==============================] - 3s 2ms/step - loss: 1.5181 - accuracy: 0.4610 - val_loss: 1.5401 - val_accuracy: 0.4660\n",
            "Epoch 25/25\n",
            "1250/1250 [==============================] - 3s 2ms/step - loss: 1.5104 - accuracy: 0.4626 - val_loss: 1.5329 - val_accuracy: 0.4651\n"
          ],
          "name": "stdout"
        }
      ]
    },
    {
      "cell_type": "code",
      "metadata": {
        "id": "iZT-t_sIIPcu",
        "colab_type": "code",
        "colab": {
          "base_uri": "https://localhost:8080/",
          "height": 202
        },
        "outputId": "9bc33d4e-dc06-4f13-a06c-515a17fba0b5"
      },
      "source": [
        "import seaborn as sns\n",
        "import pandas as pd\n",
        "\n",
        "batch_sizes = []\n",
        "\n",
        "for exp, result in zip([bt_base, bt_lr_01, bt_lr_05, bt_lr_0005, bt_lr_000005], [\".01_\", \".1_\", \".5_\", \"0.0005\", \"0.0000005\"]):\n",
        "    df = pd.DataFrame.from_dict(exp.history)\n",
        "    df['epoch'] = df.index.values\n",
        "    df['Learning Rate'] = result\n",
        "    batch_sizes.append(df)\n",
        "\n",
        "df = pd.concat(batch_sizes)\n",
        "df['Learning Rate'] = df['Learning Rate'].astype('str')\n",
        "df.head()\n"
      ],
      "execution_count": 27,
      "outputs": [
        {
          "output_type": "execute_result",
          "data": {
            "text/html": [
              "<div>\n",
              "<style scoped>\n",
              "    .dataframe tbody tr th:only-of-type {\n",
              "        vertical-align: middle;\n",
              "    }\n",
              "\n",
              "    .dataframe tbody tr th {\n",
              "        vertical-align: top;\n",
              "    }\n",
              "\n",
              "    .dataframe thead th {\n",
              "        text-align: right;\n",
              "    }\n",
              "</style>\n",
              "<table border=\"1\" class=\"dataframe\">\n",
              "  <thead>\n",
              "    <tr style=\"text-align: right;\">\n",
              "      <th></th>\n",
              "      <th>loss</th>\n",
              "      <th>accuracy</th>\n",
              "      <th>val_loss</th>\n",
              "      <th>val_accuracy</th>\n",
              "      <th>epoch</th>\n",
              "      <th>Learning Rate</th>\n",
              "    </tr>\n",
              "  </thead>\n",
              "  <tbody>\n",
              "    <tr>\n",
              "      <th>0</th>\n",
              "      <td>8.162267</td>\n",
              "      <td>0.098888</td>\n",
              "      <td>2.307848</td>\n",
              "      <td>0.09885</td>\n",
              "      <td>0</td>\n",
              "      <td>.01_</td>\n",
              "    </tr>\n",
              "    <tr>\n",
              "      <th>1</th>\n",
              "      <td>2.304704</td>\n",
              "      <td>0.099537</td>\n",
              "      <td>2.306243</td>\n",
              "      <td>0.09885</td>\n",
              "      <td>1</td>\n",
              "      <td>.01_</td>\n",
              "    </tr>\n",
              "    <tr>\n",
              "      <th>2</th>\n",
              "      <td>2.302701</td>\n",
              "      <td>0.099413</td>\n",
              "      <td>2.306242</td>\n",
              "      <td>0.10010</td>\n",
              "      <td>2</td>\n",
              "      <td>.01_</td>\n",
              "    </tr>\n",
              "    <tr>\n",
              "      <th>3</th>\n",
              "      <td>2.302613</td>\n",
              "      <td>0.098063</td>\n",
              "      <td>2.306240</td>\n",
              "      <td>0.09955</td>\n",
              "      <td>3</td>\n",
              "      <td>.01_</td>\n",
              "    </tr>\n",
              "    <tr>\n",
              "      <th>4</th>\n",
              "      <td>2.302565</td>\n",
              "      <td>0.098625</td>\n",
              "      <td>2.306246</td>\n",
              "      <td>0.09925</td>\n",
              "      <td>4</td>\n",
              "      <td>.01_</td>\n",
              "    </tr>\n",
              "  </tbody>\n",
              "</table>\n",
              "</div>"
            ],
            "text/plain": [
              "       loss  accuracy  val_loss  val_accuracy  epoch Learning Rate\n",
              "0  8.162267  0.098888  2.307848       0.09885      0          .01_\n",
              "1  2.304704  0.099537  2.306243       0.09885      1          .01_\n",
              "2  2.302701  0.099413  2.306242       0.10010      2          .01_\n",
              "3  2.302613  0.098063  2.306240       0.09955      3          .01_\n",
              "4  2.302565  0.098625  2.306246       0.09925      4          .01_"
            ]
          },
          "metadata": {
            "tags": []
          },
          "execution_count": 27
        }
      ]
    },
    {
      "cell_type": "code",
      "metadata": {
        "id": "4LYC6QuCIsOx",
        "colab_type": "code",
        "colab": {
          "base_uri": "https://localhost:8080/",
          "height": 279
        },
        "outputId": "3afc6ff6-ce75-4eec-c56e-418d97f22647"
      },
      "source": [
        "sns.lineplot(x='epoch', y='val_accuracy', hue='Learning Rate', data=df);"
      ],
      "execution_count": 28,
      "outputs": [
        {
          "output_type": "display_data",
          "data": {
            "image/png": "[encoded data removed]",
            "text/plain": [
              "<Figure size 432x288 with 1 Axes>"
            ]
          },
          "metadata": {
            "tags": [],
            "needs_background": "light"
          }
        }
      ]
    },
    {
      "cell_type": "markdown",
      "metadata": {
        "id": "gxMtSRhV9Q7I",
        "colab_type": "text"
      },
      "source": [
        "### Experiment with different Optimizers\n",
        "* Run 5 experiments with various optimizers available in TensorFlow. See list [here](https://www.tensorflow.org/api_docs/python/tf/keras/optimizers)\n",
        "* Visualize the results\n",
        "* Write up an analysis of the experiments and select the \"best\" performing model among your experiments. Make sure to compare against the previous experiments and your model's performance yesterday.\n",
        "* Repeat the experiment combining Learning Rate and different optimizers. Does the best performing model change? "
      ]
    },
    {
      "cell_type": "code",
      "metadata": {
        "id": "-xF0NwHCXEr9",
        "colab_type": "code",
        "colab": {}
      },
      "source": [
        "from tensorflow import keras\n"
      ],
      "execution_count": 54,
      "outputs": []
    },
    {
      "cell_type": "code",
      "metadata": {
        "id": "ujLuzdNA91ip",
        "colab_type": "code",
        "colab": {}
      },
      "source": [
        "def create_model(lr=0.005):\n",
        "  opt = keras.optimizers.Adam(learning_rate=lr)\n",
        "  model = Sequential([\n",
        "                      Dense(32, activation='relu', input_dim=784),\n",
        "                      Dense(32, activation='relu'),\n",
        "                      Dense(10, activation='softmax')\n",
        "  ])\n",
        "  model.compile(optimizer=opt,\n",
        "                loss='sparse_categorical_crossentropy',\n",
        "                metrics=['accuracy'])\n",
        "  return model"
      ],
      "execution_count": 56,
      "outputs": []
    },
    {
      "cell_type": "code",
      "metadata": {
        "id": "s4bUsHxUVfv0",
        "colab_type": "code",
        "colab": {
          "base_uri": "https://localhost:8080/",
          "height": 921
        },
        "outputId": "4a131cea-9627-4322-b0fb-6495d310e43d"
      },
      "source": [
        "model = create_model(lr=0.005)\n",
        "\n",
        "model_adam = model.fit(X_train, \n",
        "                       y_train,\n",
        "                       epochs=25,\n",
        "                       batch_size=64,\n",
        "                       validation_data=(X_test, y_test)\n",
        ")"
      ],
      "execution_count": 58,
      "outputs": [
        {
          "output_type": "stream",
          "text": [
            "Epoch 1/25\n",
            "   1/1250 [..............................] - ETA: 0s - loss: 77.1319 - accuracy: 0.0625WARNING:tensorflow:Callbacks method `on_train_batch_end` is slow compared to the batch time (batch time: 0.0027s vs `on_train_batch_end` time: 0.0049s). Check your callbacks.\n",
            "1250/1250 [==============================] - 3s 2ms/step - loss: 1.9576 - accuracy: 0.4160 - val_loss: 1.4683 - val_accuracy: 0.4613\n",
            "Epoch 2/25\n",
            "1250/1250 [==============================] - 3s 2ms/step - loss: 1.3409 - accuracy: 0.5231 - val_loss: 1.2361 - val_accuracy: 0.5893\n",
            "Epoch 3/25\n",
            "1250/1250 [==============================] - 3s 2ms/step - loss: 1.1776 - accuracy: 0.6004 - val_loss: 1.1838 - val_accuracy: 0.6205\n",
            "Epoch 4/25\n",
            "1250/1250 [==============================] - 3s 2ms/step - loss: 1.1509 - accuracy: 0.6115 - val_loss: 1.1498 - val_accuracy: 0.6176\n",
            "Epoch 5/25\n",
            "1250/1250 [==============================] - 3s 2ms/step - loss: 1.1422 - accuracy: 0.6119 - val_loss: 1.1509 - val_accuracy: 0.6187\n",
            "Epoch 6/25\n",
            "1250/1250 [==============================] - 3s 2ms/step - loss: 1.1505 - accuracy: 0.6105 - val_loss: 1.1789 - val_accuracy: 0.6168\n",
            "Epoch 7/25\n",
            "1250/1250 [==============================] - 3s 2ms/step - loss: 1.1472 - accuracy: 0.6159 - val_loss: 1.1695 - val_accuracy: 0.6130\n",
            "Epoch 8/25\n",
            "1250/1250 [==============================] - 3s 2ms/step - loss: 1.1442 - accuracy: 0.6076 - val_loss: 1.1405 - val_accuracy: 0.6000\n",
            "Epoch 9/25\n",
            "1250/1250 [==============================] - 3s 2ms/step - loss: 1.1275 - accuracy: 0.6096 - val_loss: 1.1139 - val_accuracy: 0.6129\n",
            "Epoch 10/25\n",
            "1250/1250 [==============================] - 3s 2ms/step - loss: 1.1312 - accuracy: 0.6159 - val_loss: 1.1968 - val_accuracy: 0.5989\n",
            "Epoch 11/25\n",
            "1250/1250 [==============================] - 3s 2ms/step - loss: 1.1404 - accuracy: 0.6097 - val_loss: 1.1385 - val_accuracy: 0.6030\n",
            "Epoch 12/25\n",
            "1250/1250 [==============================] - 3s 2ms/step - loss: 1.1449 - accuracy: 0.6045 - val_loss: 1.1633 - val_accuracy: 0.6000\n",
            "Epoch 13/25\n",
            "1250/1250 [==============================] - 3s 2ms/step - loss: 1.1510 - accuracy: 0.6040 - val_loss: 1.1547 - val_accuracy: 0.6161\n",
            "Epoch 14/25\n",
            "1250/1250 [==============================] - 3s 2ms/step - loss: 1.1331 - accuracy: 0.6176 - val_loss: 1.1241 - val_accuracy: 0.6260\n",
            "Epoch 15/25\n",
            "1250/1250 [==============================] - 3s 2ms/step - loss: 1.1406 - accuracy: 0.6158 - val_loss: 1.1387 - val_accuracy: 0.6242\n",
            "Epoch 16/25\n",
            "1250/1250 [==============================] - 3s 2ms/step - loss: 1.1405 - accuracy: 0.6137 - val_loss: 1.2063 - val_accuracy: 0.5962\n",
            "Epoch 17/25\n",
            "1250/1250 [==============================] - 3s 2ms/step - loss: 1.1812 - accuracy: 0.5976 - val_loss: 1.2347 - val_accuracy: 0.5866\n",
            "Epoch 18/25\n",
            "1250/1250 [==============================] - 3s 2ms/step - loss: 1.1941 - accuracy: 0.5855 - val_loss: 1.2214 - val_accuracy: 0.5806\n",
            "Epoch 19/25\n",
            "1250/1250 [==============================] - 3s 2ms/step - loss: 1.1808 - accuracy: 0.5903 - val_loss: 1.2102 - val_accuracy: 0.5886\n",
            "Epoch 20/25\n",
            "1250/1250 [==============================] - 3s 2ms/step - loss: 1.1759 - accuracy: 0.5896 - val_loss: 1.1560 - val_accuracy: 0.6018\n",
            "Epoch 21/25\n",
            "1250/1250 [==============================] - 3s 2ms/step - loss: 1.1498 - accuracy: 0.5987 - val_loss: 1.2167 - val_accuracy: 0.5824\n",
            "Epoch 22/25\n",
            "1250/1250 [==============================] - 3s 2ms/step - loss: 1.1511 - accuracy: 0.6006 - val_loss: 1.1715 - val_accuracy: 0.5737\n",
            "Epoch 23/25\n",
            "1250/1250 [==============================] - 3s 2ms/step - loss: 1.1492 - accuracy: 0.5984 - val_loss: 1.2365 - val_accuracy: 0.5848\n",
            "Epoch 24/25\n",
            "1250/1250 [==============================] - 3s 2ms/step - loss: 1.1702 - accuracy: 0.5930 - val_loss: 1.2080 - val_accuracy: 0.6019\n",
            "Epoch 25/25\n",
            "1250/1250 [==============================] - 3s 2ms/step - loss: 1.1534 - accuracy: 0.5959 - val_loss: 1.1601 - val_accuracy: 0.6039\n"
          ],
          "name": "stdout"
        }
      ]
    },
    {
      "cell_type": "markdown",
      "metadata": {
        "id": "ydAqeY9S8uHA",
        "colab_type": "text"
      },
      "source": [
        "### Additional Written Tasks\n",
        "\n",
        "1. Describe the process of backpropagation in your own words: \n",
        "\n",
        "![asdf](https://i.ytimg.com/vi/An5z8lR8asY/maxresdefault.jpg)\n",
        "\n",
        "\n"
      ]
    },
    {
      "cell_type": "markdown",
      "metadata": {
        "colab_type": "text",
        "id": "FwlRJSfBlCvy"
      },
      "source": [
        "## Stretch Goals: \n",
        "\n",
        "- Implement GridSearch on anyone of the experiments\n",
        "- On the learning rate experiments, implement [EarlyStopping](https://www.tensorflow.org/api_docs/python/tf/keras/callbacks/EarlyStopping)\n",
        "- Review material on the math behind gradient descent: \n",
        "\n",
        "  - Gradient Descent\n",
        "    - Gradient Descent, Step-by-Step  by StatQuest w/ Josh Starmer. This will help you understand the gradient descent based optimization that happens underneath the hood of neural networks. It uses a non-neural network example, which I believe is a gentler introduction. You will hear me refer to this technique as \"vanilla\" gradient descent. \n",
        "    - Stochastic Gradient Descent, Clearly Explained!!! by StatQuest w/ Josh Starmer. This builds on the techniques in the previous video.  This technique is the one that is actually implemented inside modern 'nets. \n",
        "These are great resources to help you understand tomorrow's material at a deeper level. I highly recommend watching these ahead of tomorrow.\n",
        "\n",
        "  - Background Math\n",
        "    - Dot products and duality by 3Blue1Brown. Explains the core linear algebra operation happening in today's perceptron.\n",
        "The paradox of the derivative by 3Blue1Brown. Does a great job explaining a derivative. \n",
        "    - Visualizing the chain rule and product rule by 3Blue1Brown. Explains the black magic that happens within Stochastic Gradient Descent. \n",
        "These math resources are very much optional. They can be very heady, but I encourage you to explore. Your understanding of neural networks will greatly increase if you understand this math background.\n",
        "\n",
        "\n"
      ]
    }
  ]
}